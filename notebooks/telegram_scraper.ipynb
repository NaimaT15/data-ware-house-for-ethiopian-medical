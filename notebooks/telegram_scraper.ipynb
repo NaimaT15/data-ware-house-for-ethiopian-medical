{
 "cells": [
  {
   "cell_type": "code",
   "execution_count": 1,
   "metadata": {},
   "outputs": [],
   "source": [
    "import pandas as pd\n",
    "import sys\n",
    "import os\n",
    "\n",
    "# Add the scripts directory to the Python path\n",
    "sys.path.append(os.path.abspath('../scripts'))"
   ]
  },
  {
   "cell_type": "code",
   "execution_count": 2,
   "metadata": {},
   "outputs": [
    {
     "name": "stderr",
     "output_type": "stream",
     "text": [
      "2024-10-10 15:49:46,532 - INFO - Connecting to 149.154.167.51:443/TcpFull...\n",
      "2024-10-10 15:49:46,786 - INFO - Connection to 149.154.167.51:443/TcpFull complete!\n",
      "2024-10-10 15:49:56,038 - INFO - Phone migrated to 4\n",
      "2024-10-10 15:49:56,315 - INFO - Reconnecting to new data center 4\n",
      "2024-10-10 15:49:56,611 - INFO - Disconnecting from 149.154.167.51:443/TcpFull...\n",
      "2024-10-10 15:49:56,616 - INFO - Disconnection from 149.154.167.51:443/TcpFull complete!\n",
      "2024-10-10 15:49:56,618 - INFO - Connecting to 149.154.167.92:443/TcpFull...\n",
      "2024-10-10 15:49:58,923 - INFO - Connection to 149.154.167.92:443/TcpFull complete!\n",
      "2024-10-10 15:50:31,631 - INFO - Client connected to Telegram.\n",
      "2024-10-10 15:50:31,632 - INFO - Scraping data from channel: DoctorsET\n"
     ]
    },
    {
     "name": "stdout",
     "output_type": "stream",
     "text": [
      "Signed in successfully as Naima T; remember to not break the ToS or you will risk an account ban!\n"
     ]
    },
    {
     "name": "stderr",
     "output_type": "stream",
     "text": [
      "2024-10-10 15:50:32,683 - INFO - Scraped 50 messages from DoctorsET\n",
      "2024-10-10 15:50:32,686 - INFO - Disconnecting from 149.154.167.92:443/TcpFull...\n",
      "2024-10-10 15:50:32,689 - INFO - Disconnection from 149.154.167.92:443/TcpFull complete!\n",
      "2024-10-10 15:50:32,725 - INFO - Connecting to 149.154.167.92:443/TcpFull...\n",
      "2024-10-10 15:50:32,940 - INFO - Connection to 149.154.167.92:443/TcpFull complete!\n",
      "2024-10-10 15:50:33,481 - INFO - Client connected to Telegram.\n",
      "2024-10-10 15:50:33,482 - INFO - Scraping data from channel: lobelia4cosmetics\n",
      "2024-10-10 15:50:34,323 - INFO - Scraped 50 messages from lobelia4cosmetics\n",
      "2024-10-10 15:50:34,324 - INFO - Disconnecting from 149.154.167.92:443/TcpFull...\n",
      "2024-10-10 15:50:34,325 - INFO - Disconnection from 149.154.167.92:443/TcpFull complete!\n",
      "2024-10-10 15:50:34,344 - INFO - Connecting to 149.154.167.92:443/TcpFull...\n",
      "2024-10-10 15:50:34,622 - INFO - Connection to 149.154.167.92:443/TcpFull complete!\n",
      "2024-10-10 15:50:35,159 - INFO - Client connected to Telegram.\n",
      "2024-10-10 15:50:35,161 - INFO - Scraping data from channel: yetenaweg\n",
      "2024-10-10 15:50:36,147 - INFO - Scraped 50 messages from yetenaweg\n",
      "2024-10-10 15:50:36,148 - INFO - Disconnecting from 149.154.167.92:443/TcpFull...\n",
      "2024-10-10 15:50:36,150 - INFO - Disconnection from 149.154.167.92:443/TcpFull complete!\n",
      "2024-10-10 15:50:36,169 - INFO - Connecting to 149.154.167.92:443/TcpFull...\n",
      "2024-10-10 15:50:36,390 - INFO - Connection to 149.154.167.92:443/TcpFull complete!\n",
      "2024-10-10 15:50:36,993 - INFO - Client connected to Telegram.\n",
      "2024-10-10 15:50:36,996 - INFO - Scraping data from channel: EAHCI\n",
      "2024-10-10 15:50:37,736 - INFO - Scraped 50 messages from EAHCI\n",
      "2024-10-10 15:50:37,736 - INFO - Disconnecting from 149.154.167.92:443/TcpFull...\n",
      "2024-10-10 15:50:37,738 - INFO - Disconnection from 149.154.167.92:443/TcpFull complete!\n",
      "2024-10-10 15:50:37,784 - INFO - Data saved to medical_businesses_scraped_data.csv.\n"
     ]
    }
   ],
   "source": [
    "# Import the scraping script\n",
    "from telegram_scraper import scrape_telegram_channel, save_data_to_csv\n",
    "import asyncio\n",
    "\n",
    "# List of Telegram channels to scrape\n",
    "channels = [\n",
    "    'DoctorsET',  \n",
    "    'lobelia4cosmetics',\n",
    "    'yetenaweg',\n",
    "    'EAHCI'\n",
    "]\n",
    "\n",
    "# Define a function to scrape multiple channels and save data\n",
    "async def scrape_multiple_channels(channels, limit=50):\n",
    "    \"\"\"\n",
    "    Scrapes multiple Telegram channels and combines the results into a single DataFrame.\n",
    "    \n",
    "    Parameters:\n",
    "    - channels: List of Telegram channel names.\n",
    "    - limit: Number of messages to scrape per channel.\n",
    "    \n",
    "    Returns:\n",
    "    - Combined DataFrame of all scraped data.\n",
    "    \"\"\"\n",
    "    all_dataframes = []\n",
    "    for channel in channels:\n",
    "        df = await scrape_telegram_channel(channel, limit=limit)\n",
    "        df['channel'] = channel\n",
    "        all_dataframes.append(df)\n",
    "\n",
    "    # Combine all DataFrames into one\n",
    "    combined_df = pd.concat(all_dataframes, ignore_index=True)\n",
    "    return combined_df\n",
    "\n",
    "# Call the asynchronous function in the notebook using asyncio\n",
    "scraped_data = asyncio.run(scrape_multiple_channels(channels))\n",
    "\n",
    "# Preview the scraped data\n",
    "scraped_data.head()\n",
    "\n",
    "# Save to CSV\n",
    "save_data_to_csv(scraped_data, filename=\"medical_businesses_scraped_data.csv\")\n"
   ]
  }
 ],
 "metadata": {
  "kernelspec": {
   "display_name": "venv",
   "language": "python",
   "name": "python3"
  },
  "language_info": {
   "codemirror_mode": {
    "name": "ipython",
    "version": 3
   },
   "file_extension": ".py",
   "mimetype": "text/x-python",
   "name": "python",
   "nbconvert_exporter": "python",
   "pygments_lexer": "ipython3",
   "version": "3.11.9"
  }
 },
 "nbformat": 4,
 "nbformat_minor": 2
}
